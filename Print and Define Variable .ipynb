{
 "cells": [
  {
   "cell_type": "markdown",
   "id": "5637eca7",
   "metadata": {},
   "source": [
    "### Printing Strings"
   ]
  },
  {
   "cell_type": "code",
   "execution_count": 2,
   "id": "e51c73e2",
   "metadata": {},
   "outputs": [
    {
     "name": "stdout",
     "output_type": "stream",
     "text": [
      "Pakistan\n"
     ]
    }
   ],
   "source": [
    "print(\"Pakistan\") #print String in Double Quote"
   ]
  },
  {
   "cell_type": "code",
   "execution_count": 3,
   "id": "f2cf6cc6",
   "metadata": {},
   "outputs": [
    {
     "name": "stdout",
     "output_type": "stream",
     "text": [
      "Pakistan\n"
     ]
    }
   ],
   "source": [
    "print('Pakistan') #print String in Single Quote"
   ]
  },
  {
   "cell_type": "code",
   "execution_count": 4,
   "id": "d47d8a4f",
   "metadata": {},
   "outputs": [
    {
     "name": "stdout",
     "output_type": "stream",
     "text": [
      "Pakistan\n",
      "we Love Pakistan\n",
      "We Live in Pakistan\n"
     ]
    }
   ],
   "source": [
    "print(\"\"\"Pakistan\n",
    "we Love Pakistan\n",
    "We Live in Pakistan\"\"\") # Print Multiple Line String in Tripple Quote"
   ]
  },
  {
   "cell_type": "code",
   "execution_count": 5,
   "id": "5ce861f3",
   "metadata": {},
   "outputs": [
    {
     "name": "stdout",
     "output_type": "stream",
     "text": [
      " Father's Name\n"
     ]
    }
   ],
   "source": [
    "print(\" Father's Name\") # if Sting Contains  single quote we Use Double Quote for Prining String"
   ]
  },
  {
   "cell_type": "code",
   "execution_count": 6,
   "id": "7e6d3dd8",
   "metadata": {},
   "outputs": [
    {
     "name": "stdout",
     "output_type": "stream",
     "text": [
      "Father\"s Name\n"
     ]
    }
   ],
   "source": [
    "print('Father\"s Name') # if Sting Contains Double quote we Use Single Quote for Prining String"
   ]
  },
  {
   "cell_type": "markdown",
   "id": "1dc2aecd",
   "metadata": {},
   "source": [
    "### Convert Special Characters into Normal Character"
   ]
  },
  {
   "cell_type": "code",
   "execution_count": 7,
   "id": "a2830988",
   "metadata": {},
   "outputs": [
    {
     "name": "stdout",
     "output_type": "stream",
     "text": [
      " father\"s\n"
     ]
    }
   ],
   "source": [
    "print(\" father\\\"s\") # we use \\ for making Special Character \"\" '' into Reguler String"
   ]
  },
  {
   "cell_type": "markdown",
   "id": "42c6a890",
   "metadata": {},
   "source": [
    "### Print Ineger"
   ]
  },
  {
   "cell_type": "code",
   "execution_count": 9,
   "id": "a79835a2",
   "metadata": {},
   "outputs": [
    {
     "name": "stdout",
     "output_type": "stream",
     "text": [
      "200\n"
     ]
    }
   ],
   "source": [
    "print(200) # we dont use quotes for printing integer"
   ]
  },
  {
   "cell_type": "markdown",
   "id": "ede911a3",
   "metadata": {},
   "source": [
    "### Define Variable"
   ]
  },
  {
   "cell_type": "code",
   "execution_count": 10,
   "id": "e503e1ed",
   "metadata": {},
   "outputs": [
    {
     "ename": "SyntaxError",
     "evalue": "invalid syntax (3760850912.py, line 1)",
     "output_type": "error",
     "traceback": [
      "\u001b[1;36m  File \u001b[1;32m\"C:\\Users\\Haneef\\AppData\\Local\\Temp\\ipykernel_4656\\3760850912.py\"\u001b[1;36m, line \u001b[1;32m1\u001b[0m\n\u001b[1;33m    Name = M Haneef\u001b[0m\n\u001b[1;37m             ^\u001b[0m\n\u001b[1;31mSyntaxError\u001b[0m\u001b[1;31m:\u001b[0m invalid syntax\n"
     ]
    }
   ],
   "source": [
    "Name = M Haneef\n",
    "Father_Name = M A Razzaq\n",
    "\n",
    "print(name)"
   ]
  },
  {
   "cell_type": "code",
   "execution_count": 11,
   "id": "1730d0fb",
   "metadata": {},
   "outputs": [
    {
     "ename": "NameError",
     "evalue": "name 'name' is not defined",
     "output_type": "error",
     "traceback": [
      "\u001b[1;31m---------------------------------------------------------------------------\u001b[0m",
      "\u001b[1;31mNameError\u001b[0m                                 Traceback (most recent call last)",
      "\u001b[1;32m~\\AppData\\Local\\Temp\\ipykernel_4656\\223383716.py\u001b[0m in \u001b[0;36m<module>\u001b[1;34m\u001b[0m\n\u001b[0;32m      2\u001b[0m \u001b[0mFather_Name\u001b[0m \u001b[1;33m=\u001b[0m \u001b[1;34m\"M A Razzaq\"\u001b[0m\u001b[1;33m\u001b[0m\u001b[1;33m\u001b[0m\u001b[0m\n\u001b[0;32m      3\u001b[0m \u001b[1;33m\u001b[0m\u001b[0m\n\u001b[1;32m----> 4\u001b[1;33m \u001b[0mprint\u001b[0m\u001b[1;33m(\u001b[0m\u001b[0mname\u001b[0m\u001b[1;33m)\u001b[0m\u001b[1;33m\u001b[0m\u001b[1;33m\u001b[0m\u001b[0m\n\u001b[0m",
      "\u001b[1;31mNameError\u001b[0m: name 'name' is not defined"
     ]
    }
   ],
   "source": [
    "Name = \"M Haneef\"      # always use quote for String Valye\n",
    "Father_Name = \"M A Razzaq\"\n",
    "\n",
    "print(name)"
   ]
  },
  {
   "cell_type": "code",
   "execution_count": 13,
   "id": "112516c2",
   "metadata": {},
   "outputs": [
    {
     "name": "stdout",
     "output_type": "stream",
     "text": [
      "M Haneef\n"
     ]
    }
   ],
   "source": [
    "Name = \"M Haneef\"      # always use quote for String Valye\n",
    "Father_Name = \"M A Razzaq\"\n",
    "\n",
    "print(Name) # make sure to Write Exactly same as defined veriable"
   ]
  },
  {
   "cell_type": "code",
   "execution_count": 16,
   "id": "7ce88699",
   "metadata": {},
   "outputs": [
    {
     "name": "stdout",
     "output_type": "stream",
     "text": [
      "M A Razzaq\n"
     ]
    }
   ],
   "source": [
    "print(Father_Name) # make sure to Write Exactly same as defined veriable"
   ]
  },
  {
   "cell_type": "markdown",
   "id": "3251a034",
   "metadata": {},
   "source": [
    "### Print Data Type"
   ]
  },
  {
   "cell_type": "code",
   "execution_count": 17,
   "id": "09abf236",
   "metadata": {},
   "outputs": [
    {
     "name": "stdout",
     "output_type": "stream",
     "text": [
      "<class 'str'>\n",
      "M Haneef\n"
     ]
    }
   ],
   "source": [
    "print(type(Name)) # type is use to find out Data type\n",
    "print(Name)"
   ]
  },
  {
   "cell_type": "code",
   "execution_count": 18,
   "id": "84d3d9af",
   "metadata": {},
   "outputs": [
    {
     "name": "stdout",
     "output_type": "stream",
     "text": [
      "<class 'int'>\n",
      "42\n"
     ]
    }
   ],
   "source": [
    "Age= 42\n",
    "\n",
    "print(type(Age)) # type is use to find out Data type\n",
    "print(Age)"
   ]
  },
  {
   "cell_type": "code",
   "execution_count": null,
   "id": "5537a504",
   "metadata": {},
   "outputs": [],
   "source": []
  }
 ],
 "metadata": {
  "kernelspec": {
   "display_name": "Python 3 (ipykernel)",
   "language": "python",
   "name": "python3"
  },
  "language_info": {
   "codemirror_mode": {
    "name": "ipython",
    "version": 3
   },
   "file_extension": ".py",
   "mimetype": "text/x-python",
   "name": "python",
   "nbconvert_exporter": "python",
   "pygments_lexer": "ipython3",
   "version": "3.9.13"
  }
 },
 "nbformat": 4,
 "nbformat_minor": 5
}
